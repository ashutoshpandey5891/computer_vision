{
 "cells": [
  {
   "cell_type": "code",
   "execution_count": 1,
   "metadata": {},
   "outputs": [],
   "source": [
    "############ Fashion MNIST dataset ###############\n",
    "import numpy as np\n",
    "import pandas as pd\n",
    "import matplotlib.pyplot as plt\n",
    "from util import y2ind\n",
    "\n",
    "%matplotlib inline"
   ]
  },
  {
   "cell_type": "code",
   "execution_count": 2,
   "metadata": {},
   "outputs": [
    {
     "name": "stdout",
     "output_type": "stream",
     "text": [
      "Train set shape :  (60000, 785)\n",
      "Test set shape :  (10000, 785)\n"
     ]
    }
   ],
   "source": [
    "train = pd.read_csv('/home/t1/machine_learning/datasets/fashion_mnist/fashion-mnist_train.csv')\n",
    "test = pd.read_csv('/home/t1/machine_learning/datasets/fashion_mnist/fashion-mnist_test.csv')\n",
    "\n",
    "print 'Train set shape : ',train.shape\n",
    "print 'Test set shape : ',test.shape"
   ]
  },
  {
   "cell_type": "code",
   "execution_count": 3,
   "metadata": {},
   "outputs": [
    {
     "name": "stdout",
     "output_type": "stream",
     "text": [
      "Train data shape :  (60000, 28, 28, 1)\n",
      "test data shape :  (10000, 28, 28, 1)\n",
      "Indicator train labels shape :  (60000, 10)\n"
     ]
    }
   ],
   "source": [
    "train_labels = train['label'].values\n",
    "train_data = train.drop('label',axis=1).values.reshape(-1,28,28,1)/255.0\n",
    "\n",
    "test_labels = test['label'].values\n",
    "test_data = test.drop('label',axis=1).values.reshape(-1,28,28,1)/255.0\n",
    "ind_train_labels = y2ind(train_labels)\n",
    "\n",
    "print 'Train data shape : ',train_data.shape\n",
    "print 'test data shape : ',test_data.shape\n",
    "print 'Indicator train labels shape : ',ind_train_labels.shape"
   ]
  },
  {
   "cell_type": "code",
   "execution_count": 4,
   "metadata": {},
   "outputs": [
    {
     "name": "stdout",
     "output_type": "stream",
     "text": [
      "label :  2\n"
     ]
    },
    {
     "data": {
      "text/plain": [
       "<matplotlib.image.AxesImage at 0x7f5081bbfb90>"
      ]
     },
     "execution_count": 4,
     "metadata": {},
     "output_type": "execute_result"
    },
    {
     "data": {
      "image/png": "[encoded data removed]",
      "text/plain": [
       "<Figure size 432x288 with 1 Axes>"
      ]
     },
     "metadata": {},
     "output_type": "display_data"
    }
   ],
   "source": [
    "#sample data\n",
    "image_size = 28\n",
    "print 'label : ',train_labels[0]\n",
    "plt.imshow(train_data[0,:].reshape(image_size,image_size),cmap='gray')"
   ]
  },
  {
   "cell_type": "code",
   "execution_count": 5,
   "metadata": {},
   "outputs": [
    {
     "name": "stderr",
     "output_type": "stream",
     "text": [
      "Using TensorFlow backend.\n"
     ]
    }
   ],
   "source": [
    "from keras.models import Sequential\n",
    "from keras.layers import Dense,Convolution2D,Flatten,MaxPooling2D"
   ]
  },
  {
   "cell_type": "code",
   "execution_count": 6,
   "metadata": {},
   "outputs": [],
   "source": [
    "######## CNN Model ###########\n",
    "model = Sequential()\n",
    "\n",
    "## 1st Conv and pooling layer\n",
    "model.add(Convolution2D(5,(5,5),input_shape = (28,28,1),activation = 'relu'))\n",
    "model.add(MaxPooling2D(pool_size = (2,2)))\n",
    "\n",
    "# 2nd Conv and Pooling layer\n",
    "model.add(Convolution2D(5,(5,5),activation='relu'))\n",
    "model.add(MaxPooling2D(pool_size = (2,2)))\n",
    "\n",
    "#flatten the outputs of second pooling layer for fully connected layer\n",
    "model.add(Flatten())\n",
    "\n",
    "# 1st dense layer \n",
    "model.add(Dense(512,activation='relu'))\n",
    "\n",
    "#final output layer\n",
    "model.add(Dense(10,activation = 'softmax'))"
   ]
  },
  {
   "cell_type": "code",
   "execution_count": null,
   "metadata": {},
   "outputs": [],
   "source": [
    "model.compile(optimizer='adam',loss = 'categorical_crossentropy',metrics = ['accuracy'])"
   ]
  },
  {
   "cell_type": "code",
   "execution_count": null,
   "metadata": {},
   "outputs": [
    {
     "name": "stdout",
     "output_type": "stream",
     "text": [
      "Epoch 1/5\n",
      "60000/60000 [==============================] - 44s 740us/step - loss: 0.5915 - acc: 0.7834\n",
      "Epoch 2/5\n",
      "60000/60000 [==============================] - 56s 929us/step - loss: 0.4207 - acc: 0.8473\n",
      "Epoch 3/5\n",
      "60000/60000 [==============================] - 60s 999us/step - loss: 0.3669 - acc: 0.8642\n",
      "Epoch 4/5\n",
      "60000/60000 [==============================] - 61s 1ms/step - loss: 0.3415 - acc: 0.8737\n",
      "Epoch 5/5\n",
      "59680/60000 [============================>.] - ETA: 0s - loss: 0.3217 - acc: 0.88128"
     ]
    }
   ],
   "source": [
    "train_op = model.fit(train_data,ind_train_labels,epochs = 5,verbose=1)"
   ]
  },
  {
   "cell_type": "code",
   "execution_count": 14,
   "metadata": {},
   "outputs": [
    {
     "data": {
      "text/plain": [
       "<matplotlib.legend.Legend at 0x7f502ff8fc10>"
      ]
     },
     "execution_count": 14,
     "metadata": {},
     "output_type": "execute_result"
    },
    {
     "data": {
      "image/png": "[encoded data removed]",
      "text/plain": [
       "<Figure size 720x288 with 2 Axes>"
      ]
     },
     "metadata": {},
     "output_type": "display_data"
    }
   ],
   "source": [
    "accs = train_op.history['acc']\n",
    "losses = train_op.history['loss']\n",
    "\n",
    "plt.figure(figsize=(10,4))\n",
    "plt.subplot(1,2,1)\n",
    "plt.plot(range(5),accs,label = 'Training accuracies')\n",
    "plt.xlabel('Number of epochs')\n",
    "plt.ylabel('accuracy')\n",
    "plt.legend()\n",
    "\n",
    "plt.subplot(1,2,2)\n",
    "plt.plot(range(5),losses,label = 'Training losses')\n",
    "plt.xlabel('Number of epochs')\n",
    "plt.ylabel('categorical crossentropy loss')\n",
    "plt.legend()"
   ]
  },
  {
   "cell_type": "code",
   "execution_count": null,
   "metadata": {},
   "outputs": [],
   "source": []
  }
 ],
 "metadata": {
  "kernelspec": {
   "display_name": "Python 2",
   "language": "python",
   "name": "python2"
  },
  "language_info": {
   "codemirror_mode": {
    "name": "ipython",
    "version": 2
   },
   "file_extension": ".py",
   "mimetype": "text/x-python",
   "name": "python",
   "nbconvert_exporter": "python",
   "pygments_lexer": "ipython2",
   "version": "2.7.15"
  }
 },
 "nbformat": 4,
 "nbformat_minor": 2
}
