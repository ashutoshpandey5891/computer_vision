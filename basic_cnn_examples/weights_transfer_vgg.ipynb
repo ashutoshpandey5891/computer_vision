{
 "cells": [
  {
   "cell_type": "code",
   "execution_count": 1,
   "metadata": {},
   "outputs": [
    {
     "name": "stderr",
     "output_type": "stream",
     "text": [
      "Using TensorFlow backend.\n"
     ]
    }
   ],
   "source": [
    "from __future__ import print_function,division\n",
    "from glob import glob \n",
    "import numpy as np\n",
    "import matplotlib.pyplot as plt\n",
    "\n",
    "from keras.models import Model\n",
    "from keras.layers import Input,Lambda,Dense,Flatten\n",
    "from keras.applications.vgg16 import VGG16\n",
    "from keras.applications.vgg16 import preprocess_input\n",
    "from keras.preprocessing import image\n",
    "from keras.preprocessing.image import ImageDataGenerator\n",
    "\n",
    "%matplotlib inline"
   ]
  },
  {
   "cell_type": "code",
   "execution_count": 2,
   "metadata": {},
   "outputs": [],
   "source": [
    "train_path = '../data/fruits-360-small/Training/'\n",
    "valid_path = '../data/fruits-360-small/Validation/'"
   ]
  },
  {
   "cell_type": "code",
   "execution_count": 3,
   "metadata": {},
   "outputs": [],
   "source": [
    "train_images = glob(train_path+'*/*.jp*g')\n",
    "valid_images = glob(valid_path+'*/*.jp*g')\n",
    "folders = glob(train_path+'*')"
   ]
  },
  {
   "cell_type": "code",
   "execution_count": 4,
   "metadata": {},
   "outputs": [],
   "source": [
    "IMAGE_SIZE = [100,100]\n",
    "n_epochs = 5\n",
    "batch_size = 32"
   ]
  },
  {
   "cell_type": "code",
   "execution_count": 5,
   "metadata": {},
   "outputs": [
    {
     "data": {
      "text/plain": [
       "<matplotlib.image.AxesImage at 0x7f813cbda650>"
      ]
     },
     "execution_count": 5,
     "metadata": {},
     "output_type": "execute_result"
    },
    {
     "data": {
      "image/png": "[encoded data removed]",
      "text/plain": [
       "<Figure size 432x288 with 1 Axes>"
      ]
     },
     "metadata": {},
     "output_type": "display_data"
    }
   ],
   "source": [
    "temp_img = plt.imread(np.random.choice(train_images))\n",
    "plt.imshow(temp_img)"
   ]
  },
  {
   "cell_type": "code",
   "execution_count": 6,
   "metadata": {},
   "outputs": [],
   "source": [
    "vgg = VGG16(input_shape=IMAGE_SIZE+[3],weights='imagenet',include_top=False)"
   ]
  },
  {
   "cell_type": "code",
   "execution_count": 7,
   "metadata": {},
   "outputs": [],
   "source": [
    "for layer in vgg.layers:\n",
    "    layer.trainable = False\n",
    "    \n",
    "x = Flatten()(vgg.output)\n",
    "predictions = Dense(len(folders),activation='softmax')(x)"
   ]
  },
  {
   "cell_type": "code",
   "execution_count": 8,
   "metadata": {},
   "outputs": [
    {
     "name": "stdout",
     "output_type": "stream",
     "text": [
      "_________________________________________________________________\n",
      "Layer (type)                 Output Shape              Param #   \n",
      "=================================================================\n",
      "input_1 (InputLayer)         (None, 100, 100, 3)       0         \n",
      "_________________________________________________________________\n",
      "block1_conv1 (Conv2D)        (None, 100, 100, 64)      1792      \n",
      "_________________________________________________________________\n",
      "block1_conv2 (Conv2D)        (None, 100, 100, 64)      36928     \n",
      "_________________________________________________________________\n",
      "block1_pool (MaxPooling2D)   (None, 50, 50, 64)        0         \n",
      "_________________________________________________________________\n",
      "block2_conv1 (Conv2D)        (None, 50, 50, 128)       73856     \n",
      "_________________________________________________________________\n",
      "block2_conv2 (Conv2D)        (None, 50, 50, 128)       147584    \n",
      "_________________________________________________________________\n",
      "block2_pool (MaxPooling2D)   (None, 25, 25, 128)       0         \n",
      "_________________________________________________________________\n",
      "block3_conv1 (Conv2D)        (None, 25, 25, 256)       295168    \n",
      "_________________________________________________________________\n",
      "block3_conv2 (Conv2D)        (None, 25, 25, 256)       590080    \n",
      "_________________________________________________________________\n",
      "block3_conv3 (Conv2D)        (None, 25, 25, 256)       590080    \n",
      "_________________________________________________________________\n",
      "block3_pool (MaxPooling2D)   (None, 12, 12, 256)       0         \n",
      "_________________________________________________________________\n",
      "block4_conv1 (Conv2D)        (None, 12, 12, 512)       1180160   \n",
      "_________________________________________________________________\n",
      "block4_conv2 (Conv2D)        (None, 12, 12, 512)       2359808   \n",
      "_________________________________________________________________\n",
      "block4_conv3 (Conv2D)        (None, 12, 12, 512)       2359808   \n",
      "_________________________________________________________________\n",
      "block4_pool (MaxPooling2D)   (None, 6, 6, 512)         0         \n",
      "_________________________________________________________________\n",
      "block5_conv1 (Conv2D)        (None, 6, 6, 512)         2359808   \n",
      "_________________________________________________________________\n",
      "block5_conv2 (Conv2D)        (None, 6, 6, 512)         2359808   \n",
      "_________________________________________________________________\n",
      "block5_conv3 (Conv2D)        (None, 6, 6, 512)         2359808   \n",
      "_________________________________________________________________\n",
      "block5_pool (MaxPooling2D)   (None, 3, 3, 512)         0         \n",
      "_________________________________________________________________\n",
      "flatten_1 (Flatten)          (None, 4608)              0         \n",
      "_________________________________________________________________\n",
      "dense_1 (Dense)              (None, 8)                 36872     \n",
      "=================================================================\n",
      "Total params: 14,751,560\n",
      "Trainable params: 36,872\n",
      "Non-trainable params: 14,714,688\n",
      "_________________________________________________________________\n"
     ]
    }
   ],
   "source": [
    "model = Model(inputs=vgg.inputs,outputs=predictions)\n",
    "model.summary()"
   ]
  },
  {
   "cell_type": "code",
   "execution_count": 9,
   "metadata": {},
   "outputs": [],
   "source": [
    "model.compile(loss='categorical_crossentropy',optimizer= 'rmsprop',metrics = ['accuracy'])"
   ]
  },
  {
   "cell_type": "code",
   "execution_count": 10,
   "metadata": {},
   "outputs": [],
   "source": [
    "gen = ImageDataGenerator(\n",
    "    rotation_range = 20,\n",
    "    width_shift_range = 0.1,\n",
    "    height_shift_range = 0.1,\n",
    "    shear_range = 0.1,\n",
    "    zoom_range = 0.1,\n",
    "    horizontal_flip = True,\n",
    "    vertical_flip = True,\n",
    "    preprocessing_function = preprocess_input\n",
    ")"
   ]
  },
  {
   "cell_type": "code",
   "execution_count": 11,
   "metadata": {},
   "outputs": [
    {
     "name": "stdout",
     "output_type": "stream",
     "text": [
      "Found 1289 images belonging to 8 classes.\n"
     ]
    }
   ],
   "source": [
    "test_gen = gen.flow_from_directory(valid_path,target_size=IMAGE_SIZE)"
   ]
  },
  {
   "cell_type": "code",
   "execution_count": 12,
   "metadata": {},
   "outputs": [
    {
     "name": "stdout",
     "output_type": "stream",
     "text": [
      "{'Apple Golden 1': 0, 'Kiwi': 3, 'Lemon': 4, 'Avocado': 1, 'Strawberry': 7, 'Mango': 5, 'Raspberry': 6, 'Banana': 2}\n"
     ]
    }
   ],
   "source": [
    "print(test_gen.class_indices)"
   ]
  },
  {
   "cell_type": "code",
   "execution_count": 13,
   "metadata": {},
   "outputs": [],
   "source": [
    "labels = [None]*len(test_gen.class_indices)\n",
    "for k,v in test_gen.class_indices.items():\n",
    "    labels[v] = k"
   ]
  },
  {
   "cell_type": "code",
   "execution_count": 14,
   "metadata": {},
   "outputs": [
    {
     "name": "stdout",
     "output_type": "stream",
     "text": [
      "Min :  -102.939 Max :  151.061\n"
     ]
    },
    {
     "data": {
      "image/png": "[encoded data removed]",
      "text/plain": [
       "<Figure size 432x288 with 1 Axes>"
      ]
     },
     "metadata": {},
     "output_type": "display_data"
    }
   ],
   "source": [
    "for x,y in test_gen:\n",
    "    print('Min : ',x[0].min(),'Max : ',x[0].max())\n",
    "    plt.imshow(x[0])\n",
    "    plt.title(labels[np.argmax(y[0])])\n",
    "    break"
   ]
  },
  {
   "cell_type": "code",
   "execution_count": 15,
   "metadata": {},
   "outputs": [
    {
     "name": "stdout",
     "output_type": "stream",
     "text": [
      "Found 3839 images belonging to 8 classes.\n",
      "Found 1289 images belonging to 8 classes.\n"
     ]
    }
   ],
   "source": [
    "#training data image generator\n",
    "train_gen = gen.flow_from_directory(\n",
    "    train_path,\n",
    "    target_size = IMAGE_SIZE,\n",
    "    shuffle=True,\n",
    "    batch_size=batch_size\n",
    ")\n",
    "\n",
    "\n",
    "#valid data generator\n",
    "valid_gen = gen.flow_from_directory(\n",
    "    valid_path,\n",
    "    target_size = IMAGE_SIZE,\n",
    "    shuffle = True,\n",
    "    batch_size = batch_size\n",
    ")"
   ]
  },
  {
   "cell_type": "code",
   "execution_count": 16,
   "metadata": {},
   "outputs": [
    {
     "name": "stdout",
     "output_type": "stream",
     "text": [
      "Epoch 1/5\n",
      "119/119 [==============================] - 1330s 11s/step - loss: 4.1583 - acc: 0.7329 - val_loss: 2.3558 - val_acc: 0.8266\n",
      "Epoch 2/5\n",
      "119/119 [==============================] - 1325s 11s/step - loss: 1.8352 - acc: 0.8839 - val_loss: 1.8184 - val_acc: 0.8844\n",
      "Epoch 3/5\n",
      "119/119 [==============================] - 1319s 11s/step - loss: 1.7683 - acc: 0.8899 - val_loss: 1.7525 - val_acc: 0.8898\n",
      "Epoch 4/5\n",
      "119/119 [==============================] - 1316s 11s/step - loss: 1.8339 - acc: 0.8858 - val_loss: 1.8098 - val_acc: 0.8859\n",
      "Epoch 5/5\n",
      "119/119 [==============================] - 1322s 11s/step - loss: 1.7469 - acc: 0.8915 - val_loss: 1.7728 - val_acc: 0.8891\n"
     ]
    }
   ],
   "source": [
    "r = model.fit_generator(\n",
    "    train_gen,\n",
    "    validation_data=valid_gen,\n",
    "    epochs = n_epochs,\n",
    "    steps_per_epoch = len(train_images)//batch_size,\n",
    "    validation_steps = len(valid_images)//batch_size\n",
    ")"
   ]
  },
  {
   "cell_type": "code",
   "execution_count": 26,
   "metadata": {},
   "outputs": [],
   "source": [
    "import pickle\n",
    "f = open('r.pickle','w')\n",
    "pickle.dump(r.history,f)\n",
    "f.close()"
   ]
  },
  {
   "cell_type": "code",
   "execution_count": 32,
   "metadata": {},
   "outputs": [],
   "source": [
    "from sklearn.metrics import confusion_matrix"
   ]
  },
  {
   "cell_type": "code",
   "execution_count": 33,
   "metadata": {},
   "outputs": [],
   "source": [
    "def get_confusion_matrix(data_path,N):\n",
    "    print('generating confusion matrix ',N)\n",
    "    preds = []\n",
    "    targets = []\n",
    "    i = 0\n",
    "    for x,y in gen.flow_from_directory(data_path,target_size=IMAGE_SIZE,shuffle=False,batch_size = batch_size*2):\n",
    "        i += 1\n",
    "        if i%50 == 0:\n",
    "            print(i)\n",
    "        p = model.predict(x)\n",
    "        p = np.argmax(p,axis=1)\n",
    "        y = np.argmax(y,axis=1)\n",
    "        preds = np.concatenate((preds,p))\n",
    "        targets = np.concatenate((targets,y))\n",
    "        if len(targets) > N:\n",
    "            break        \n",
    "            \n",
    "    cm = confusion_matrix(targets,preds)\n",
    "    return cm"
   ]
  },
  {
   "cell_type": "code",
   "execution_count": 34,
   "metadata": {},
   "outputs": [
    {
     "name": "stdout",
     "output_type": "stream",
     "text": [
      "generating confusion matrix  3839\n",
      "Found 3839 images belonging to 8 classes.\n",
      "50\n"
     ]
    }
   ],
   "source": [
    "train_cm = get_confusion_matrix(train_path,len(train_images))"
   ]
  },
  {
   "cell_type": "code",
   "execution_count": 36,
   "metadata": {},
   "outputs": [
    {
     "name": "stdout",
     "output_type": "stream",
     "text": [
      "generating confusion matrix  1289\n",
      "Found 1289 images belonging to 8 classes.\n"
     ]
    }
   ],
   "source": [
    "valid_cm = get_confusion_matrix(valid_path,len(valid_images))"
   ]
  },
  {
   "cell_type": "code",
   "execution_count": 38,
   "metadata": {},
   "outputs": [
    {
     "data": {
      "text/plain": [
       "array([[556,   0,   0,   0,   0,   0,   0,   0],\n",
       "       [  2,   0,   2,  48,   0, 374,   0,   1],\n",
       "       [  0,   0, 490,   0,   0,   0,   0,   0],\n",
       "       [  0,   0,   0, 466,   0,   0,   0,   0],\n",
       "       [  0,   0,   0,   0, 492,   0,   0,   0],\n",
       "       [  0,   0,   0,   0,   0, 490,   0,   0],\n",
       "       [  0,   0,   0,   0,   0,   0, 490,   0],\n",
       "       [  0,   0,   0,   0,   0,   0,   0, 492]])"
      ]
     },
     "execution_count": 38,
     "metadata": {},
     "output_type": "execute_result"
    }
   ],
   "source": [
    "train_cm"
   ]
  },
  {
   "cell_type": "code",
   "execution_count": 39,
   "metadata": {},
   "outputs": [
    {
     "data": {
      "text/plain": [
       "array([[226,   0,   0,   0,   2,   0,   0,   0],\n",
       "       [  5,   0,   0,  14,   1, 123,   0,   0],\n",
       "       [  0,   0, 166,   0,   0,   0,   0,   0],\n",
       "       [  0,   0,   0, 156,   0,   0,   0,   0],\n",
       "       [  0,   0,   0,   0, 164,   0,   0,   0],\n",
       "       [  0,   0,   0,   0,   0, 166,   0,   0],\n",
       "       [  0,   0,   0,   0,   0,   0, 166,   0],\n",
       "       [  0,   0,   0,   0,   0,   0,   0, 164]])"
      ]
     },
     "execution_count": 39,
     "metadata": {},
     "output_type": "execute_result"
    }
   ],
   "source": [
    "valid_cm"
   ]
  },
  {
   "cell_type": "code",
   "execution_count": 59,
   "metadata": {},
   "outputs": [
    {
     "data": {
      "text/plain": [
       "<matplotlib.legend.Legend at 0x7f81269e5bd0>"
      ]
     },
     "execution_count": 59,
     "metadata": {},
     "output_type": "execute_result"
    },
    {
     "data": {
      "image/png": "[encoded data removed]",
      "text/plain": [
       "<Figure size 432x288 with 1 Axes>"
      ]
     },
     "metadata": {},
     "output_type": "display_data"
    }
   ],
   "source": [
    "plt.plot(r.history['acc'],label = 'Training Accuracy')\n",
    "plt.plot(r.history['val_acc'],label = 'Validation accuracy')\n",
    "best_acc = max(r.history['val_acc'])\n",
    "plt.title('Max validation Accuracy : {:.4f}'.format(best_acc))\n",
    "plt.xlabel('Number of epochs')\n",
    "plt.ylabel('Accuracy')\n",
    "plt.legend()"
   ]
  },
  {
   "cell_type": "code",
   "execution_count": 58,
   "metadata": {},
   "outputs": [
    {
     "data": {
      "text/plain": [
       "<matplotlib.legend.Legend at 0x7f8126a62f10>"
      ]
     },
     "execution_count": 58,
     "metadata": {},
     "output_type": "execute_result"
    },
    {
     "data": {
      "image/png": "[encoded data removed]",
      "text/plain": [
       "<Figure size 432x288 with 1 Axes>"
      ]
     },
     "metadata": {},
     "output_type": "display_data"
    }
   ],
   "source": [
    "plt.plot(r.history['loss'],label = 'Training loss')\n",
    "plt.plot(r.history['val_loss'],label = 'Validation loss')\n",
    "plt.title('Minimum validation loss : {:.4f}'.format(min(r.history['val_loss'])))\n",
    "plt.ylabel('Loss')\n",
    "plt.xlabel('Number of epochs')\n",
    "plt.legend()"
   ]
  },
  {
   "cell_type": "code",
   "execution_count": null,
   "metadata": {},
   "outputs": [],
   "source": []
  }
 ],
 "metadata": {
  "kernelspec": {
   "display_name": "Python 2",
   "language": "python",
   "name": "python2"
  },
  "language_info": {
   "codemirror_mode": {
    "name": "ipython",
    "version": 2
   },
   "file_extension": ".py",
   "mimetype": "text/x-python",
   "name": "python",
   "nbconvert_exporter": "python",
   "pygments_lexer": "ipython2",
   "version": "2.7.15"
  }
 },
 "nbformat": 4,
 "nbformat_minor": 2
}
